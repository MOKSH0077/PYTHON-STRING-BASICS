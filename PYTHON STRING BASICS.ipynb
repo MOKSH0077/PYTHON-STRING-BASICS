{
 "cells": [
  {
   "cell_type": "markdown",
   "id": "ba7574d3-d85b-44cf-bac0-2cff1295d6c1",
   "metadata": {},
   "source": [
    "# DAY 1 OF INFINITE CODING\n"
   ]
  },
  {
   "cell_type": "markdown",
   "id": "b11489e1-0635-4df9-9262-7751b5b37efa",
   "metadata": {},
   "source": [
    "# STRING BASIC CONCEPTS :"
   ]
  },
  {
   "cell_type": "markdown",
   "id": "e667d947-1ee7-48f8-93fa-e0668a4ccb36",
   "metadata": {},
   "source": [
    "HERE ARE SOME EXAMPLE CODES "
   ]
  },
  {
   "cell_type": "code",
   "execution_count": 3,
   "id": "a0af46d4-4518-4039-93dd-e59bdc7805b2",
   "metadata": {},
   "outputs": [
    {
     "name": "stdout",
     "output_type": "stream",
     "text": [
      "xyzef\n"
     ]
    }
   ],
   "source": [
    "mystring='xyzef'\n",
    "print(mystring)"
   ]
  },
  {
   "cell_type": "markdown",
   "id": "0b4afa18-7eeb-47db-baff-4323a6958f5f",
   "metadata": {},
   "source": [
    "String programming mein ek sequence hota hai characters ka, jo text ko represent karta hai. Strings ko double ya single quotes ke andar likha jaata hai. Python aur dusre programming languages mein strings ka use text manipulation, data storage, aur user input ko handle karne ke liye hota hai.\n",
    "\n",
    "Key Features:\n",
    "1.)Strings immutable hote hain, matlab ek baar create hone ke baad inhe change nahi kiya ja sakta.\n",
    "2.)Strings ke saath various methods available hote hain, jaise upper(), lower(), replace(), etc., jo inki functionalities enhance karte hain."
   ]
  },
  {
   "cell_type": "code",
   "execution_count": 4,
   "id": "d52d5aba-0637-4b95-a932-56dfb6d828df",
   "metadata": {},
   "outputs": [
    {
     "name": "stdout",
     "output_type": "stream",
     "text": [
      "y\n",
      "f\n"
     ]
    }
   ],
   "source": [
    "# INDEXING \n",
    "print(mystring[1]\n",
    "     )\n",
    "print(mystring[4]\n",
    "     )"
   ]
  },
  {
   "cell_type": "markdown",
   "id": "29ef2383-e7b0-4d87-9529-351c8916015b",
   "metadata": {},
   "source": [
    "Indexing Python mein strings ya kisi bhi sequence (jaise list, tuple) ke elements ko access karne ka tarika hai. Indexing se tum specific character ya element ko identify aur retrieve kar sakte ho. Python mein indexing zero-based hoti hai, matlab pehla element ka index 0 hota hai.\n",
    "\n",
    "Key Points:\n",
    "1.)Zero-Based Indexing: Pehla character index 0 se start hota hai.\n",
    "2.)Negative Indexing: Last character ko access karne ke liye negative indices use kar sakte hain.\n",
    "3.)IndexError: Agar tum kisi aise index ko access karne ki koshish karte ho jo string ke length se zyada hai, toh IndexError aata hai.\n",
    "\n"
   ]
  },
  {
   "cell_type": "code",
   "execution_count": 5,
   "id": "085b5292-ebbe-4dbe-a5b7-f45260714dba",
   "metadata": {},
   "outputs": [
    {
     "name": "stdout",
     "output_type": "stream",
     "text": [
      "yze\n",
      "xyzef\n",
      "fezyx\n",
      "ze\n",
      "ye\n"
     ]
    }
   ],
   "source": [
    "# SLICING\n",
    "print(mystring[1:4]\n",
    "     )\n",
    "print(mystring[::]\n",
    "     )\n",
    "print(mystring[::-1]\n",
    "     )\n",
    "print(mystring[-3:-1]\n",
    "     )\n",
    "print(mystring[1:4:2]\n",
    "     )"
   ]
  },
  {
   "cell_type": "markdown",
   "id": "983aea13-d55b-4929-ac02-9c64afb7bb10",
   "metadata": {},
   "source": [
    "Slicing ek powerful feature hai Python mein jo strings aur lists ke specific portions ko extract karne ke liye use hota hai. Is technique se tum ek naya object create kar sakte ho jo original data ka subset hota hai. Slicing mein tum start aur end indices specify karte ho, aur yeh zero-based indexing par kaam karta hai.\n",
    "\n",
    "Key Aspects:\n",
    "Start and End Indices: Tumhe yeh specify karna hota hai ke slicing kis index se shuru hogi aur kis index par khatam hogi. Yeh inclusive aur exclusive hota hai, matlab start index include hota hai, lekin end index exclude hota hai.\n",
    "\n",
    "Negative Indexing: Slicing mein tum negative indices bhi use kar sakte ho, jo aakhri elements ko access karne mein madadgar hote hain.\n",
    "\n",
    "Default Values: Agar tum start ya end specify nahi karte ho, toh Python default values use karta hai. Jaise, agar sirf start index diya jaye, toh woh string ke starting se slicing karega, aur agar sirf end index diya jaye, toh woh last tak chalega.\n",
    "\n",
    "Step Parameter: Tum slicing mein step parameter bhi specify kar sakte ho, jo batata hai ke kitne indices skip karne hain. Iska use karke tum har nth element ko access kar sakte ho.\n",
    "\n",
    "Use Cases: Slicing ka use kar ke tum specific parts of strings ya lists ko manipulate kar sakte ho, jaise substring extraction ya elements ki sequence change karna.\n"
   ]
  },
  {
   "cell_type": "code",
   "execution_count": 6,
   "id": "36a50ee0-8396-4a6b-99bb-096d6f91b745",
   "metadata": {},
   "outputs": [
    {
     "name": "stdout",
     "output_type": "stream",
     "text": [
      "MY NAME IS \n",
      "MY NAME IS ANYNAME\n",
      " I L B  I L B  I L B  I L B  I L B  I L B  I L B  I L B  I L B  I L B  I L B  I L B  I L B  I L B  I L B  I L B  I L B  I L B  I L B  I L B \n"
     ]
    }
   ],
   "source": [
    "# CONCATENATION AND MULTIPLICATION\n",
    "mystring2='MY NAME IS xyzef'\n",
    "replacemyname=mystring2[0:11]\n",
    "print(replacemyname)\n",
    "new_name= replacemyname + 'ANYNAME'#concatenation\n",
    "print(new_name)\n",
    "mystring3=' I L B '\n",
    "print(mystring3*20)# multiplication"
   ]
  },
  {
   "cell_type": "markdown",
   "id": "8fab1e99-7519-44cb-8eb7-9014c18c8aef",
   "metadata": {},
   "source": [
    "Concatenation\n",
    "Concatenation ka matlab hai do ya zyada strings ko jodna. Isse tum ek naya string bana sakte ho jo sabhi strings ko sequence mein rakhata hai. Python mein, concatenation ke liye + operator ka use hota hai.\n",
    "\n",
    "Multiplication\n",
    "Multiplication ka use strings ko repeat karne ke liye hota hai. Isme * operator ka istemal hota hai. Agar tum ek string ko kisi integer se multiply karte ho, toh wo string utni baar repeat hoti hai.\n",
    "\n",
    "Summary\n",
    "1.)Concatenation se strings ko joda ja sakta hai using + operator.\n",
    "2.)Multiplication se strings ko repeat kiya ja sakta hai using * operator.\n",
    "\n"
   ]
  },
  {
   "cell_type": "code",
   "execution_count": 7,
   "id": "eaba1ef8-745b-4442-ab12-0d819308abe6",
   "metadata": {},
   "outputs": [
    {
     "name": "stdout",
     "output_type": "stream",
     "text": [
      "HELLO WORLD\n",
      "hello world\n",
      "['MY', 'NAME', 'IS', 'xyzef']\n",
      "['', 'EY ', 'ELLO ', 'IE']\n"
     ]
    }
   ],
   "source": [
    "# some methods you must know\n",
    "mystring4='hello world'\n",
    "print(mystring4.upper())\n",
    "\n",
    "mystring5='HELLO WORLD'\n",
    "print(mystring5.lower())\n",
    "\n",
    "mystring6='MY NAME IS xyzef'\n",
    "print(mystring6.split())\n",
    "\n",
    "mystring7='HEY HELLO HIE'\n",
    "print(mystring7.split('H'))"
   ]
  },
  {
   "cell_type": "markdown",
   "id": "ea94ffc6-3e8b-406d-826d-c6db0e7773e1",
   "metadata": {},
   "source": [
    "upper() Method:\n",
    "upper() method string ke har character ko uppercase (capital letters) mein convert kar deta hai. Iska istemal tab hota hai jab tumhe string ka presentation formal ya emphasize karna hota hai. Is method ko call karne par original string ko modify nahi kiya jata, balki ek naya string return hota hai.\n",
    "\n",
    "lower() Method:\n",
    "lower() method string ke sabhi characters ko lowercase (small letters) mein convert kar deta hai. Ye method un situations mein useful hota hai jab tumhe string ko case-insensitive comparison ya user input ko normalize karna hota hai. Is method ka bhi original string par koi effect nahi hota; ek naya string return hota hai.\n",
    "\n",
    "split() Method:\n",
    "split() method string ko specified delimiter (default whitespace) ke basis par parts mein todta hai aur unhe ek list ke roop mein return karta hai. Tum is method ko tab use karte ho jab tumhe string se individual words ya elements extract karne hote hain. Iska ek optional parameter hota hai jisse tum custom delimiter specify kar sakte ho, jaise comma ya hyphen."
   ]
  },
  {
   "cell_type": "code",
   "execution_count": 9,
   "id": "01a27de8-1afc-4610-a41d-eec5fa72e88b",
   "metadata": {},
   "outputs": [
    {
     "name": "stdout",
     "output_type": "stream",
     "text": [
      "MY NAME IS XYZ and efghi \n",
      "my name is efghi\n",
      "THE RESULT WAS    12.33\n"
     ]
    }
   ],
   "source": [
    "# PRINT STRINGS\n",
    "#1)  .format() method\n",
    "print('MY NAME IS {1} and {0} '.format('efghi','XYZ'))\n",
    "#2)   f string method\n",
    "name='efghi'\n",
    "print(f'my name is {name}')\n",
    "#3)   float point\n",
    "result=12.333444\n",
    "print(f'THE RESULT WAS {result:8.2f}')\n"
   ]
  },
  {
   "cell_type": "markdown",
   "id": "a2506215-66e9-4d36-b644-2bf84c817841",
   "metadata": {},
   "source": [
    ".format() Method\n",
    ".format() method Python mein strings ko format karne ke liye use hota hai. Is method ka istemal variables ya values ko string ke andar insert karne ke liye hota hai. Tum {} placeholders ka istemal karte ho jahan tumhe value insert karni hoti hai, aur phir .format() method mein actual values pass karte ho. Ye method string formatting ko flexible aur readable banata hai, jaise ki number formatting, padding, aur alignment.\n",
    "\n",
    "f-string\n",
    "f-string (formatted string literals) Python 3.6 se available hai aur ye string formatting ka ek aur efficient tareeka hai. F-string ko string ke shuruaat mein f ya F likhkar use kiya jata hai. Isme, tum directly variables ko string ke andar {} braces ke beech likh sakte ho. F-strings readable aur concise hote hain aur inka performance bhi achha hota hai kyunki ye compile-time par evaluate hote hain.\n",
    "\n",
    "Float Format\n",
    "Float formatting ka istemal floating-point numbers ko specific format mein display karne ke liye hota hai. Tum isse precision control kar sakte ho, jaise ki decimal places ka number define karna. Float formatting ke liye .format() method ya f-strings dono ka istemal kiya ja sakta hai, jahan tum format specifier ka istemal karte ho (jaise :.2f for two decimal places) to specify how the number should be displayed.\n",
    "\n",
    "In teeno methods ka istemal strings aur numbers ko format karne ke liye kaafi helpful hota hai, aur ye code ko zyada readable aur maintainable banate hain."
   ]
  },
  {
   "cell_type": "markdown",
   "id": "e16e636b-e767-4f29-baba-4fd410cd03a9",
   "metadata": {},
   "source": [
    "# THANK YOU  "
   ]
  }
 ],
 "metadata": {
  "kernelspec": {
   "display_name": "Python 3 (ipykernel)",
   "language": "python",
   "name": "python3"
  },
  "language_info": {
   "codemirror_mode": {
    "name": "ipython",
    "version": 3
   },
   "file_extension": ".py",
   "mimetype": "text/x-python",
   "name": "python",
   "nbconvert_exporter": "python",
   "pygments_lexer": "ipython3",
   "version": "3.11.7"
  }
 },
 "nbformat": 4,
 "nbformat_minor": 5
}
